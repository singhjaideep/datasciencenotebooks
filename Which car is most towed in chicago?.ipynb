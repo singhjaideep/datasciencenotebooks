{
 "metadata": {
  "name": "",
  "signature": "sha256:35b702525fd58655145b330c691f8ae05c64f77b03d22cb068bae68fe2e7d51b"
 },
 "nbformat": 3,
 "nbformat_minor": 0,
 "worksheets": [
  {
   "cells": [
    {
     "cell_type": "markdown",
     "metadata": {},
     "source": [
      "Which car is the most towed in Chicago?"
     ]
    },
    {
     "cell_type": "markdown",
     "metadata": {},
     "source": [
      "Just messing around with ipython and matplotlib to see what interesting stuff can I do."
     ]
    }
   ],
   "metadata": {}
  }
 ]
}